{
 "cells": [
  {
   "cell_type": "markdown",
   "metadata": {},
   "source": [
    "### Import Required Libraries and Set Up Environment Variables"
   ]
  },
  {
   "cell_type": "code",
   "execution_count": 1,
   "metadata": {},
   "outputs": [],
   "source": [
    "# Dependencies\n",
    "import requests\n",
    "import time\n",
    "from dotenv import load_dotenv\n",
    "import os\n",
    "import pandas as pd\n",
    "import json"
   ]
  },
  {
   "cell_type": "code",
   "execution_count": 2,
   "metadata": {},
   "outputs": [],
   "source": [
    "# Set environment variables from the .env in the local environment\n",
    "load_dotenv()\n",
    "\n",
    "nyt_api_key = os.getenv(\"NYT_API_KEY\")\n",
    "tmdb_api_key = os.getenv(\"TMDB_API_KEY\")"
   ]
  },
  {
   "cell_type": "markdown",
   "metadata": {},
   "source": [
    "### Access the New York Times API"
   ]
  },
  {
   "cell_type": "code",
   "execution_count": 3,
   "metadata": {},
   "outputs": [],
   "source": [
    "# Set the base URL\n",
    "url = \"https://api.nytimes.com/svc/search/v2/articlesearch.json?\"\n",
    "\n",
    "# Filter for movie reviews with \"love\" in the headline\n",
    "# section_name should be \"Movies\"\n",
    "# type_of_material should be \"Review\"\n",
    "filter_query = 'section_name:\"Movies\" AND type_of_material:\"Review\" AND headline:\"love\"'\n",
    "\n",
    "# Use a sort filter, sort by newest\n",
    "sort = \"newest\"\n",
    "\n",
    "# Select the following fields to return:\n",
    "# headline, web_url, snippet, source, keywords, pub_date, byline, word_count\n",
    "field_list = \"headline,web_url,snippet,source,keywords,pub_date,byline,word_count\"\n",
    "\n",
    "# Search for reviews published between a begin and end date\n",
    "begin_date = \"20130101\"\n",
    "end_date = \"20230531\"\n",
    "\n",
    "# Build URL\n",
    "nyt_query_url = f\"{url}&api-key={nyt_api_key}&begin_date={begin_date}&end_date={end_date}&fq={filter_query}&sort={sort}&fl={field_list}\"\n"
   ]
  },
  {
   "cell_type": "code",
   "execution_count": 4,
   "metadata": {},
   "outputs": [],
   "source": [
    "##Test API and understand the results for first page\n",
    "#test_query_url = f\"{nyt_query_url}&page=0\"\n",
    "    \n",
    "##Make a \"GET\" request and retrieve the JSON\n",
    "#test_response = requests.get(test_query_url)\n",
    "#test_reviews = test_response.json()\n",
    "#test_reviews"
   ]
  },
  {
   "cell_type": "code",
   "execution_count": null,
   "metadata": {},
   "outputs": [
    {
     "name": "stdout",
     "output_type": "stream",
     "text": [
      "Checked page 0\n",
      "Checked page 1\n",
      "Checked page 2\n",
      "Checked page 3\n",
      "Checked page 4\n",
      "Checked page 5\n",
      "Checked page 6\n"
     ]
    }
   ],
   "source": [
    "# Create an empty list to store the reviews\n",
    "reviews_list = []\n",
    "\n",
    "# loop through pages 0-19\n",
    "for i in range(20):\n",
    "    # create query with a page number\n",
    "    # API results show 10 articles at a time\n",
    "    query_url = f\"{nyt_query_url}&page={i}\"\n",
    "    \n",
    "    # Make a \"GET\" request and retrieve the JSON\n",
    "    response = requests.get(query_url)\n",
    "    reviews = response.json()\n",
    "    \n",
    "    # Add a twelve second interval between queries to stay within API query limits\n",
    "    time.sleep(12)\n",
    "    \n",
    "    # Try and save the reviews to the reviews_list\n",
    "    try:\n",
    "        # loop through the reviews[\"response\"][\"docs\"] and append each review to the list\n",
    "        for doc in reviews[\"response\"][\"docs\"]:\n",
    "            reviews_list.append(doc)\n",
    "        \n",
    "        # Print the page that was just retrieved\n",
    "        print(f\"Checked page {i}\")\n",
    "    except:\n",
    "        # Print the page number that had no results then break from the loop\n",
    "        print(f\"Page {i} had no results\")\n",
    "        break\n"
   ]
  },
  {
   "cell_type": "code",
   "execution_count": null,
   "metadata": {},
   "outputs": [],
   "source": [
    "# Preview the first 5 results in JSON format\n",
    "# Use json.dumps with argument indent=4 to format data\n",
    "print(json.dumps(reviews_list[0:5],indent=4))"
   ]
  },
  {
   "cell_type": "code",
   "execution_count": null,
   "metadata": {},
   "outputs": [],
   "source": [
    "# Convert reviews_list to a Pandas DataFrame using json_normalize()\n",
    "reviews_df = pd.json_normalize(reviews_list)\n",
    "reviews_df"
   ]
  },
  {
   "cell_type": "code",
   "execution_count": null,
   "metadata": {},
   "outputs": [],
   "source": [
    "# Extract the title from the \"headline.main\" column and\n",
    "# save it to a new column \"title\"\n",
    "# Title is between unicode characters \\u2018 and \\u2019. \n",
    "# End string should include \" Review\" to avoid cutting title early\n",
    "reviews_df['title'] = reviews_df['headline.main'].apply(lambda st: st[st.find(\"\\u2018\")+1:st.find(\"\\u2019 Review\")])\n",
    "reviews_df"
   ]
  },
  {
   "cell_type": "code",
   "execution_count": null,
   "metadata": {},
   "outputs": [],
   "source": [
    "# Extract 'name' and 'value' from items in \"keywords\" column\n",
    "def extract_keywords(keyword_list):\n",
    "    extracted_keywords = \"\"\n",
    "    for item in keyword_list:\n",
    "        # Extract 'name' and 'value'\n",
    "        keyword = f\"{item['name']}: {item['value']};\" \n",
    "        # Append the keyword item to the extracted_keywords list\n",
    "        extracted_keywords += keyword\n",
    "    return extracted_keywords\n",
    "\n",
    "# Fix the \"keywords\" column by converting cells from a list to a string\n",
    "reviews_df['keywords'] = reviews_df['keywords'].apply(extract_keywords)\n",
    "reviews_df"
   ]
  },
  {
   "cell_type": "code",
   "execution_count": null,
   "metadata": {
    "scrolled": true
   },
   "outputs": [],
   "source": [
    "# Create a list from the \"title\" column using to_list()\n",
    "# These titles will be used in the query for The Movie Database\n",
    "titles = reviews_df['title'].to_list()\n",
    "titles"
   ]
  },
  {
   "cell_type": "markdown",
   "metadata": {},
   "source": [
    "### Access The Movie Database API"
   ]
  },
  {
   "cell_type": "code",
   "execution_count": null,
   "metadata": {},
   "outputs": [],
   "source": [
    "# Prepare The Movie Database query\n",
    "url = \"https://api.themoviedb.org/3/search/movie?query=\"\n",
    "details_url = \"https://api.themoviedb.org/3/movie/\"\n",
    "\n",
    "tmdb_key_string = \"&api_key=\" + tmdb_api_key\n"
   ]
  },
  {
   "cell_type": "code",
   "execution_count": null,
   "metadata": {},
   "outputs": [],
   "source": [
    "##Test Search API call and review results\n",
    "#test_movie_title = 'The Attachment Diaries'\n",
    "#test_query_url = f\"{url}{test_movie_title}{tmdb_key_string}\"\n",
    "\n",
    "## Test API call and print results\n",
    "#test_response = requests.get(test_query_url)\n",
    "#test_movie_info = test_response.json()\n",
    "#print(json.dumps(test_movie_info, indent=4))"
   ]
  },
  {
   "cell_type": "code",
   "execution_count": null,
   "metadata": {},
   "outputs": [],
   "source": [
    "##Test navigation of Search API results information\n",
    "#print(f\"genre = {test_movie_info['results'][0]['genre_ids']}\")\n",
    "#print(f\"lang = {test_movie_info['results'][0]['original_language']}\")\n",
    "#print(f\"movie_id = {test_movie_info['results'][0]['id']}\")\n",
    "#test_movie_info['results']"
   ]
  },
  {
   "cell_type": "code",
   "execution_count": null,
   "metadata": {},
   "outputs": [],
   "source": [
    "## Test Details API call and review results\n",
    "#test_movie_id = 181812   ##Star Wars\n",
    "#test_detail_query_url = f\"{details_url}{test_movie_id}?{tmdb_key_string}\"\n",
    "#test_detail_response = requests.get(test_detail_query_url)\n",
    "#test_movie_details = test_detail_response.json()\n",
    "#print(json.dumps(test_movie_details, indent=4))\n"
   ]
  },
  {
   "cell_type": "code",
   "execution_count": null,
   "metadata": {},
   "outputs": [],
   "source": [
    "# Create an empty list to store the results\n",
    "tmdb_movies_list = []\n",
    "\n",
    "# Create a request counter to sleep the requests after a multiple\n",
    "# of 50 requests\n",
    "request_counter = 1\n",
    "\n",
    "# Loop through the titles\n",
    "for title in titles:\n",
    "    ##  Test Break after 5 calls to review results\n",
    "    #if request_counter == 6:\n",
    "        #break\n",
    "        \n",
    "    # Check if we need to sleep before making a request\n",
    "    if request_counter % 50 == 0:\n",
    "        print(\"TMDB Movies List Process is Sleeping\")\n",
    "        time.sleep(1)\n",
    "\n",
    "    # Add 1 to the request counter\n",
    "    request_counter += 1\n",
    "    \n",
    "    # Perform a \"GET\" request for The Movie Database\n",
    "    title_query_url = f\"{url}{title}{tmdb_key_string}\"\n",
    "    title_response = requests.get(title_query_url)\n",
    "    movie = title_response.json()\n",
    "\n",
    "    # Include a try clause to search for the full movie details.\n",
    "    # Use the except clause to print out a statement if a movie\n",
    "    # is not found.\n",
    "    try:\n",
    "        # Get movie id\n",
    "        movie_id = movie['results'][0]['id']\n",
    "        #print(f\"\\nMovie Title: {title}\")\n",
    "        #print(f\"Movie Id: {movie_id}\")\n",
    "\n",
    "\n",
    "        # Make a request for a the full movie details\n",
    "        detail_query_url = f\"{details_url}{movie_id}?{tmdb_key_string}\"\n",
    "\n",
    "        \n",
    "        # Execute \"GET\" request with url\n",
    "        detail_response = requests.get(detail_query_url)\n",
    "        movie_details = detail_response.json()\n",
    "        #print(movie_details)\n",
    "\n",
    "        \n",
    "        # Extract the genre names into a list\n",
    "        genres_list = []\n",
    "        for index in range(len(movie_details['genres'])):\n",
    "            for key in movie_details['genres'][index]:\n",
    "                if key == 'name':\n",
    "                    #print(movie_details['genres'][index][key])\n",
    "                    genres_list.append(movie_details['genres'][index][key])\n",
    "        #print(f\"Genres: {genres_list}\")\n",
    "\n",
    "\n",
    "        # Extract the spoken_languages' English name into a list\n",
    "        spoken_languages_list = []\n",
    "        for index in range(len(movie_details['spoken_languages'])):\n",
    "            for key in movie_details['spoken_languages'][index]:\n",
    "                if key == 'english_name':\n",
    "                    #print(movie_details['spoken_languages'][index][key])\n",
    "                    spoken_languages_list.append(movie_details['spoken_languages'][index][key])\n",
    "        #print(f\"Spoken Language: {spoken_languages_list}\")\n",
    "\n",
    "\n",
    "        # Extract the production_countries' name into a list\n",
    "        production_countries_list = []\n",
    "        for index in range(len(movie_details['production_countries'])):\n",
    "            for key in movie_details['production_countries'][index]:\n",
    "                if key == 'name':\n",
    "                    #print(movie_details['production_countries'][index][key])\n",
    "                    production_countries_list.append(movie_details['production_countries'][index][key])\n",
    "        #print(f\"Production Countries: {production_countries_list}\")\n",
    "        \n",
    "        \n",
    "        # Add the relevant data to a dictionary and\n",
    "        # append it to the tmdb_movies_list list\n",
    "        tmdb_movies_list.append({'title': title,\n",
    "                                 'original_title' : movie_details['original_title'],\n",
    "                                 'budget' : movie_details['budget'],\n",
    "                                 'original_language' : movie_details['original_language'],\n",
    "                                 'homepage' : movie_details['homepage'],\n",
    "                                 'overview' : movie_details['overview'],\n",
    "                                 'popularity' : movie_details['popularity'],\n",
    "                                 'runtime' : movie_details['runtime'],\n",
    "                                 'revenue' : movie_details['revenue'],\n",
    "                                 'release_date' : movie_details['release_date'],\n",
    "                                 'vote_average' : movie_details['vote_average'],\n",
    "                                 'vote_count' : movie_details['vote_count'],\n",
    "                                 'genres' : genres_list,\n",
    "                                 'spoken_languages' : spoken_languages_list,\n",
    "                                 'production_countries' : production_countries_list\n",
    "                                }) \n",
    "        print(f\"Movie Title: '{title}' -- found\")\n",
    "\n",
    "    except:\n",
    "        # Print out the title that was found\n",
    "        print(f\"Movie Title: '{title}' -- not found\")\n",
    "\n"
   ]
  },
  {
   "cell_type": "code",
   "execution_count": null,
   "metadata": {},
   "outputs": [],
   "source": [
    "# Preview the first 5 results in JSON format\n",
    "# Use json.dumps with argument indent=4 to format data\n",
    "print(json.dumps(tmdb_movies_list[0:5],indent=4))"
   ]
  },
  {
   "cell_type": "code",
   "execution_count": null,
   "metadata": {},
   "outputs": [],
   "source": [
    "# Convert the results to a DataFrame\n",
    "tmdb_df = pd.DataFrame(tmdb_movies_list)\n",
    "tmdb_df"
   ]
  },
  {
   "cell_type": "markdown",
   "metadata": {},
   "source": [
    "### Merge and Clean the Data for Export"
   ]
  },
  {
   "cell_type": "code",
   "execution_count": null,
   "metadata": {
    "scrolled": true
   },
   "outputs": [],
   "source": [
    "# Merge the New York Times reviews and TMDB DataFrames on title\n",
    "merged_nyt_tmdb_df = pd.merge(tmdb_df, reviews_df, how='inner', on='title')\n",
    "merged_nyt_tmdb_df"
   ]
  },
  {
   "cell_type": "code",
   "execution_count": null,
   "metadata": {},
   "outputs": [],
   "source": [
    "##Test to review 'genres' column before changes\n",
    "#merged_nyt_tmdb_df['genres']"
   ]
  },
  {
   "cell_type": "code",
   "execution_count": null,
   "metadata": {},
   "outputs": [],
   "source": [
    "##Test to review 'spoken_languages' column before changes\n",
    "#merged_nyt_tmdb_df['spoken_languages']"
   ]
  },
  {
   "cell_type": "code",
   "execution_count": null,
   "metadata": {},
   "outputs": [],
   "source": [
    "##Test to review 'production_countries' column before changes\n",
    "#merged_nyt_tmdb_df['production_countries']"
   ]
  },
  {
   "cell_type": "code",
   "execution_count": null,
   "metadata": {},
   "outputs": [],
   "source": [
    "# Remove list brackets and quotation marks on the columns containing lists\n",
    "# Create a list of the columns that need fixing\n",
    "columns_to_fix = ['genres', 'spoken_languages', 'production_countries']\n",
    "#print(columns_to_fix)\n",
    "\n",
    "# Create a list of characters to remove\n",
    "characters_to_remove = [\"[\",\"]\", \"'\"]\n",
    "#print(characters_to_remove)\n",
    "\n",
    "# Loop through the list of columns to fix\n",
    "for col in columns_to_fix:\n",
    "    \n",
    "    # Convert the column to type 'str'\n",
    "    merged_nyt_tmdb_df[col] = merged_nyt_tmdb_df[col].astype('str')\n",
    "\n",
    "    # Loop through characters to remove\n",
    "    for char in characters_to_remove:\n",
    "        merged_nyt_tmdb_df[col] = merged_nyt_tmdb_df[col].str.replace(char, \"\",regex=False)\n",
    "\n",
    "\n",
    "# Display the fixed DataFrame\n",
    "merged_nyt_tmdb_df.head()"
   ]
  },
  {
   "cell_type": "code",
   "execution_count": null,
   "metadata": {},
   "outputs": [],
   "source": [
    "##Test to review 'genres' column after changes\n",
    "#merged_nyt_tmdb_df['genres']"
   ]
  },
  {
   "cell_type": "code",
   "execution_count": null,
   "metadata": {},
   "outputs": [],
   "source": [
    "##Test to review 'spoken_languages' column after changes\n",
    "#merged_nyt_tmdb_df['spoken_languages']"
   ]
  },
  {
   "cell_type": "code",
   "execution_count": null,
   "metadata": {},
   "outputs": [],
   "source": [
    "##Test to review 'production_countries' column after changes\n",
    "#merged_nyt_tmdb_df['production_countries']"
   ]
  },
  {
   "cell_type": "code",
   "execution_count": null,
   "metadata": {},
   "outputs": [],
   "source": [
    "# Drop \"byline.person\" column\n",
    "merged_nyt_tmdb_df = merged_nyt_tmdb_df.drop(['byline.person'], axis=1)\n",
    "merged_nyt_tmdb_df"
   ]
  },
  {
   "cell_type": "code",
   "execution_count": null,
   "metadata": {},
   "outputs": [],
   "source": [
    "# Delete duplicate rows and reset index\n",
    "merged_nyt_tmdb_df = merged_nyt_tmdb_df.drop_duplicates()\n",
    "merged_nyt_tmdb_df = merged_nyt_tmdb_df.reset_index(drop=True)\n",
    "merged_nyt_tmdb_df"
   ]
  },
  {
   "cell_type": "code",
   "execution_count": null,
   "metadata": {},
   "outputs": [],
   "source": [
    "# Export data to CSV without the index\n",
    "merged_nyt_tmdb_df.to_csv('merged_nyt_tmdb_df.csv', encoding='utf-8',index='False')"
   ]
  },
  {
   "cell_type": "code",
   "execution_count": null,
   "metadata": {},
   "outputs": [],
   "source": []
  }
 ],
 "metadata": {
  "kernelspec": {
   "display_name": "Python 3 (ipykernel)",
   "language": "python",
   "name": "python3"
  },
  "language_info": {
   "codemirror_mode": {
    "name": "ipython",
    "version": 3
   },
   "file_extension": ".py",
   "mimetype": "text/x-python",
   "name": "python",
   "nbconvert_exporter": "python",
   "pygments_lexer": "ipython3",
   "version": "3.10.13"
  },
  "varInspector": {
   "cols": {
    "lenName": 16,
    "lenType": 16,
    "lenVar": 40
   },
   "kernels_config": {
    "python": {
     "delete_cmd_postfix": "",
     "delete_cmd_prefix": "del ",
     "library": "var_list.py",
     "varRefreshCmd": "print(var_dic_list())"
    },
    "r": {
     "delete_cmd_postfix": ") ",
     "delete_cmd_prefix": "rm(",
     "library": "var_list.r",
     "varRefreshCmd": "cat(var_dic_list()) "
    }
   },
   "types_to_exclude": [
    "module",
    "function",
    "builtin_function_or_method",
    "instance",
    "_Feature"
   ],
   "window_display": false
  }
 },
 "nbformat": 4,
 "nbformat_minor": 2
}
